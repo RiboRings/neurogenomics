{
 "cells": [
  {
   "cell_type": "code",
   "execution_count": 1,
   "id": "05653e42",
   "metadata": {
    "_cell_guid": "b1076dfc-b9ad-4769-8c92-a6c4dae69d19",
    "_uuid": "8f2839f25d086af736a60e9eeb907d3b93b6e0e5",
    "execution": {
     "iopub.execute_input": "2024-06-10T21:11:51.059460Z",
     "iopub.status.busy": "2024-06-10T21:11:51.059038Z",
     "iopub.status.idle": "2024-06-10T21:12:11.489246Z",
     "shell.execute_reply": "2024-06-10T21:12:11.487627Z"
    },
    "papermill": {
     "duration": 20.438779,
     "end_time": "2024-06-10T21:12:11.492517",
     "exception": false,
     "start_time": "2024-06-10T21:11:51.053738",
     "status": "completed"
    },
    "tags": []
   },
   "outputs": [
    {
     "name": "stdout",
     "output_type": "stream",
     "text": [
      "Collecting Bio\r\n",
      "  Downloading bio-1.7.1-py3-none-any.whl.metadata (5.7 kB)\r\n",
      "Collecting biopython>=1.80 (from Bio)\r\n",
      "  Downloading biopython-1.83-cp310-cp310-manylinux_2_17_x86_64.manylinux2014_x86_64.whl.metadata (13 kB)\r\n",
      "Collecting gprofiler-official (from Bio)\r\n",
      "  Downloading gprofiler_official-1.0.0-py3-none-any.whl.metadata (11 kB)\r\n",
      "Collecting mygene (from Bio)\r\n",
      "  Downloading mygene-3.2.2-py2.py3-none-any.whl.metadata (10 kB)\r\n",
      "Requirement already satisfied: pandas in /opt/conda/lib/python3.10/site-packages (from Bio) (2.2.2)\r\n",
      "Requirement already satisfied: pooch in /opt/conda/lib/python3.10/site-packages (from Bio) (1.8.1)\r\n",
      "Requirement already satisfied: requests in /opt/conda/lib/python3.10/site-packages (from Bio) (2.32.3)\r\n",
      "Requirement already satisfied: tqdm in /opt/conda/lib/python3.10/site-packages (from Bio) (4.66.4)\r\n",
      "Requirement already satisfied: numpy in /opt/conda/lib/python3.10/site-packages (from biopython>=1.80->Bio) (1.26.4)\r\n",
      "Collecting biothings-client>=0.2.6 (from mygene->Bio)\r\n",
      "  Downloading biothings_client-0.3.1-py2.py3-none-any.whl.metadata (9.8 kB)\r\n",
      "Requirement already satisfied: python-dateutil>=2.8.2 in /opt/conda/lib/python3.10/site-packages (from pandas->Bio) (2.9.0.post0)\r\n",
      "Requirement already satisfied: pytz>=2020.1 in /opt/conda/lib/python3.10/site-packages (from pandas->Bio) (2023.3.post1)\r\n",
      "Requirement already satisfied: tzdata>=2022.7 in /opt/conda/lib/python3.10/site-packages (from pandas->Bio) (2023.4)\r\n",
      "Requirement already satisfied: platformdirs>=2.5.0 in /opt/conda/lib/python3.10/site-packages (from pooch->Bio) (3.11.0)\r\n",
      "Requirement already satisfied: packaging>=20.0 in /opt/conda/lib/python3.10/site-packages (from pooch->Bio) (21.3)\r\n",
      "Requirement already satisfied: charset-normalizer<4,>=2 in /opt/conda/lib/python3.10/site-packages (from requests->Bio) (3.3.2)\r\n",
      "Requirement already satisfied: idna<4,>=2.5 in /opt/conda/lib/python3.10/site-packages (from requests->Bio) (3.6)\r\n",
      "Requirement already satisfied: urllib3<3,>=1.21.1 in /opt/conda/lib/python3.10/site-packages (from requests->Bio) (1.26.18)\r\n",
      "Requirement already satisfied: certifi>=2017.4.17 in /opt/conda/lib/python3.10/site-packages (from requests->Bio) (2024.2.2)\r\n",
      "Requirement already satisfied: pyparsing!=3.0.5,>=2.0.2 in /opt/conda/lib/python3.10/site-packages (from packaging>=20.0->pooch->Bio) (3.1.1)\r\n",
      "Requirement already satisfied: six>=1.5 in /opt/conda/lib/python3.10/site-packages (from python-dateutil>=2.8.2->pandas->Bio) (1.16.0)\r\n",
      "Downloading bio-1.7.1-py3-none-any.whl (280 kB)\r\n",
      "\u001b[2K   \u001b[90m━━━━━━━━━━━━━━━━━━━━━━━━━━━━━━━━━━━━━━━━\u001b[0m \u001b[32m281.0/281.0 kB\u001b[0m \u001b[31m6.9 MB/s\u001b[0m eta \u001b[36m0:00:00\u001b[0m\r\n",
      "\u001b[?25hDownloading biopython-1.83-cp310-cp310-manylinux_2_17_x86_64.manylinux2014_x86_64.whl (3.1 MB)\r\n",
      "\u001b[2K   \u001b[90m━━━━━━━━━━━━━━━━━━━━━━━━━━━━━━━━━━━━━━━━\u001b[0m \u001b[32m3.1/3.1 MB\u001b[0m \u001b[31m42.4 MB/s\u001b[0m eta \u001b[36m0:00:00\u001b[0m\r\n",
      "\u001b[?25hDownloading gprofiler_official-1.0.0-py3-none-any.whl (9.3 kB)\r\n",
      "Downloading mygene-3.2.2-py2.py3-none-any.whl (5.4 kB)\r\n",
      "Downloading biothings_client-0.3.1-py2.py3-none-any.whl (29 kB)\r\n",
      "Installing collected packages: biopython, gprofiler-official, biothings-client, mygene, Bio\r\n",
      "Successfully installed Bio-1.7.1 biopython-1.83 biothings-client-0.3.1 gprofiler-official-1.0.0 mygene-3.2.2\r\n"
     ]
    }
   ],
   "source": [
    "!pip install Bio\n",
    "\n",
    "import requests\n",
    "from io import StringIO\n",
    "from Bio import SeqIO"
   ]
  },
  {
   "cell_type": "code",
   "execution_count": 2,
   "id": "266f3c64",
   "metadata": {
    "execution": {
     "iopub.execute_input": "2024-06-10T21:12:11.504494Z",
     "iopub.status.busy": "2024-06-10T21:12:11.504055Z",
     "iopub.status.idle": "2024-06-10T21:12:11.511638Z",
     "shell.execute_reply": "2024-06-10T21:12:11.510104Z"
    },
    "papermill": {
     "duration": 0.017487,
     "end_time": "2024-06-10T21:12:11.515253",
     "exception": false,
     "start_time": "2024-06-10T21:12:11.497766",
     "status": "completed"
    },
    "tags": []
   },
   "outputs": [],
   "source": [
    "def read_from_drive(url):\n",
    "    \n",
    "    file_id = url.split('/')[-1]\n",
    "    download_url='https://drive.google.com/uc?export=download&id=' + file_id\n",
    "    \n",
    "    url_text = requests.get(download_url).text\n",
    "    raw_file = StringIO(url_text)\n",
    "    \n",
    "    return raw_file"
   ]
  },
  {
   "cell_type": "code",
   "execution_count": 3,
   "id": "70b5ff56",
   "metadata": {
    "execution": {
     "iopub.execute_input": "2024-06-10T21:12:11.528114Z",
     "iopub.status.busy": "2024-06-10T21:12:11.527658Z",
     "iopub.status.idle": "2024-06-10T21:12:14.880409Z",
     "shell.execute_reply": "2024-06-10T21:12:14.879006Z"
    },
    "papermill": {
     "duration": 3.362972,
     "end_time": "2024-06-10T21:12:14.883120",
     "exception": false,
     "start_time": "2024-06-10T21:12:11.520148",
     "status": "completed"
    },
    "tags": []
   },
   "outputs": [],
   "source": [
    "pealeii_url = \"https://drive.google.com/file/d/1omKelb4BXrFlFj2a3Pjs79lIAa2hwQVU\"\n",
    "pealeii_fasta = read_from_drive(pealeii_url)\n",
    "\n",
    "gfl_url = \"https://drive.google.com/file/d/1orrUCOB6Ji2cZD7B05PLuOdKEeyjuPK5\"\n",
    "gfl_bam = read_from_drive(gfl_url)\n",
    "\n",
    "gill_url = \"https://drive.google.com/file/d/1p4FwGoHTMnAenSX85b9rybc0OSY8jwUB\"\n",
    "gill_bam = read_from_drive(gill_url)"
   ]
  },
  {
   "cell_type": "code",
   "execution_count": 4,
   "id": "fb39dfa6",
   "metadata": {
    "execution": {
     "iopub.execute_input": "2024-06-10T21:12:14.894351Z",
     "iopub.status.busy": "2024-06-10T21:12:14.893950Z",
     "iopub.status.idle": "2024-06-10T21:12:14.899081Z",
     "shell.execute_reply": "2024-06-10T21:12:14.897910Z"
    },
    "papermill": {
     "duration": 0.014275,
     "end_time": "2024-06-10T21:12:14.902163",
     "exception": false,
     "start_time": "2024-06-10T21:12:14.887888",
     "status": "completed"
    },
    "tags": []
   },
   "outputs": [],
   "source": [
    "working_dir = \"/kaggle/working/\""
   ]
  },
  {
   "cell_type": "code",
   "execution_count": 5,
   "id": "990d2e1c",
   "metadata": {
    "execution": {
     "iopub.execute_input": "2024-06-10T21:12:14.914194Z",
     "iopub.status.busy": "2024-06-10T21:12:14.913707Z",
     "iopub.status.idle": "2024-06-10T21:12:15.195566Z",
     "shell.execute_reply": "2024-06-10T21:12:15.194285Z"
    },
    "papermill": {
     "duration": 0.291239,
     "end_time": "2024-06-10T21:12:15.198603",
     "exception": false,
     "start_time": "2024-06-10T21:12:14.907364",
     "status": "completed"
    },
    "tags": []
   },
   "outputs": [],
   "source": [
    "ids = []\n",
    "sequences = []\n",
    "orf_starts = []\n",
    "orf_ends = []\n",
    "\n",
    "with open(working_dir + \"outfile.txt\", \"w\") as out:\n",
    "\n",
    "    for seq in SeqIO.parse(pealeii_fasta, \"fasta\"):\n",
    "    \n",
    "        out.write(seq.id + \"\\n\")\n",
    "    \n",
    "        ids.append(seq.id)\n",
    "        sequences.append(seq.seq)\n",
    "    \n",
    "        desc = seq.description.split(\"\\t\")\n",
    "        orf_starts.append(desc[2])\n",
    "        orf_ends.append(desc[4])"
   ]
  }
 ],
 "metadata": {
  "kaggle": {
   "accelerator": "none",
   "dataSources": [],
   "dockerImageVersionId": 30732,
   "isGpuEnabled": false,
   "isInternetEnabled": true,
   "language": "python",
   "sourceType": "notebook"
  },
  "kernelspec": {
   "display_name": "Python 3",
   "language": "python",
   "name": "python3"
  },
  "language_info": {
   "codemirror_mode": {
    "name": "ipython",
    "version": 3
   },
   "file_extension": ".py",
   "mimetype": "text/x-python",
   "name": "python",
   "nbconvert_exporter": "python",
   "pygments_lexer": "ipython3",
   "version": "3.10.13"
  },
  "papermill": {
   "default_parameters": {},
   "duration": 27.815686,
   "end_time": "2024-06-10T21:12:15.625962",
   "environment_variables": {},
   "exception": null,
   "input_path": "__notebook__.ipynb",
   "output_path": "__notebook__.ipynb",
   "parameters": {},
   "start_time": "2024-06-10T21:11:47.810276",
   "version": "2.5.0"
  }
 },
 "nbformat": 4,
 "nbformat_minor": 5
}
