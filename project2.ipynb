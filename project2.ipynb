{
 "cells": [
  {
   "cell_type": "code",
   "execution_count": 1,
   "id": "ea3e7748",
   "metadata": {
    "_cell_guid": "b1076dfc-b9ad-4769-8c92-a6c4dae69d19",
    "_uuid": "8f2839f25d086af736a60e9eeb907d3b93b6e0e5",
    "execution": {
     "iopub.execute_input": "2024-06-12T10:01:14.817710Z",
     "iopub.status.busy": "2024-06-12T10:01:14.817213Z",
     "iopub.status.idle": "2024-06-12T10:01:54.815813Z",
     "shell.execute_reply": "2024-06-12T10:01:54.814222Z"
    },
    "papermill": {
     "duration": 40.008295,
     "end_time": "2024-06-12T10:01:54.819705",
     "exception": false,
     "start_time": "2024-06-12T10:01:14.811410",
     "status": "completed"
    },
    "tags": []
   },
   "outputs": [
    {
     "name": "stdout",
     "output_type": "stream",
     "text": [
      "Collecting Bio\r\n",
      "  Downloading bio-1.7.1-py3-none-any.whl.metadata (5.7 kB)\r\n",
      "Collecting biopython>=1.80 (from Bio)\r\n",
      "  Downloading biopython-1.83-cp310-cp310-manylinux_2_17_x86_64.manylinux2014_x86_64.whl.metadata (13 kB)\r\n",
      "Collecting gprofiler-official (from Bio)\r\n",
      "  Downloading gprofiler_official-1.0.0-py3-none-any.whl.metadata (11 kB)\r\n",
      "Collecting mygene (from Bio)\r\n",
      "  Downloading mygene-3.2.2-py2.py3-none-any.whl.metadata (10 kB)\r\n",
      "Requirement already satisfied: pandas in /opt/conda/lib/python3.10/site-packages (from Bio) (2.2.2)\r\n",
      "Requirement already satisfied: pooch in /opt/conda/lib/python3.10/site-packages (from Bio) (1.8.1)\r\n",
      "Requirement already satisfied: requests in /opt/conda/lib/python3.10/site-packages (from Bio) (2.32.3)\r\n",
      "Requirement already satisfied: tqdm in /opt/conda/lib/python3.10/site-packages (from Bio) (4.66.4)\r\n",
      "Requirement already satisfied: numpy in /opt/conda/lib/python3.10/site-packages (from biopython>=1.80->Bio) (1.26.4)\r\n",
      "Collecting biothings-client>=0.2.6 (from mygene->Bio)\r\n",
      "  Downloading biothings_client-0.3.1-py2.py3-none-any.whl.metadata (9.8 kB)\r\n",
      "Requirement already satisfied: python-dateutil>=2.8.2 in /opt/conda/lib/python3.10/site-packages (from pandas->Bio) (2.9.0.post0)\r\n",
      "Requirement already satisfied: pytz>=2020.1 in /opt/conda/lib/python3.10/site-packages (from pandas->Bio) (2023.3.post1)\r\n",
      "Requirement already satisfied: tzdata>=2022.7 in /opt/conda/lib/python3.10/site-packages (from pandas->Bio) (2023.4)\r\n",
      "Requirement already satisfied: platformdirs>=2.5.0 in /opt/conda/lib/python3.10/site-packages (from pooch->Bio) (3.11.0)\r\n",
      "Requirement already satisfied: packaging>=20.0 in /opt/conda/lib/python3.10/site-packages (from pooch->Bio) (21.3)\r\n",
      "Requirement already satisfied: charset-normalizer<4,>=2 in /opt/conda/lib/python3.10/site-packages (from requests->Bio) (3.3.2)\r\n",
      "Requirement already satisfied: idna<4,>=2.5 in /opt/conda/lib/python3.10/site-packages (from requests->Bio) (3.6)\r\n",
      "Requirement already satisfied: urllib3<3,>=1.21.1 in /opt/conda/lib/python3.10/site-packages (from requests->Bio) (1.26.18)\r\n",
      "Requirement already satisfied: certifi>=2017.4.17 in /opt/conda/lib/python3.10/site-packages (from requests->Bio) (2024.2.2)\r\n",
      "Requirement already satisfied: pyparsing!=3.0.5,>=2.0.2 in /opt/conda/lib/python3.10/site-packages (from packaging>=20.0->pooch->Bio) (3.1.1)\r\n",
      "Requirement already satisfied: six>=1.5 in /opt/conda/lib/python3.10/site-packages (from python-dateutil>=2.8.2->pandas->Bio) (1.16.0)\r\n",
      "Downloading bio-1.7.1-py3-none-any.whl (280 kB)\r\n",
      "\u001b[2K   \u001b[90m━━━━━━━━━━━━━━━━━━━━━━━━━━━━━━━━━━━━━━━━\u001b[0m \u001b[32m281.0/281.0 kB\u001b[0m \u001b[31m8.3 MB/s\u001b[0m eta \u001b[36m0:00:00\u001b[0m\r\n",
      "\u001b[?25hDownloading biopython-1.83-cp310-cp310-manylinux_2_17_x86_64.manylinux2014_x86_64.whl (3.1 MB)\r\n",
      "\u001b[2K   \u001b[90m━━━━━━━━━━━━━━━━━━━━━━━━━━━━━━━━━━━━━━━━\u001b[0m \u001b[32m3.1/3.1 MB\u001b[0m \u001b[31m51.8 MB/s\u001b[0m eta \u001b[36m0:00:00\u001b[0m\r\n",
      "\u001b[?25hDownloading gprofiler_official-1.0.0-py3-none-any.whl (9.3 kB)\r\n",
      "Downloading mygene-3.2.2-py2.py3-none-any.whl (5.4 kB)\r\n",
      "Downloading biothings_client-0.3.1-py2.py3-none-any.whl (29 kB)\r\n",
      "Installing collected packages: biopython, gprofiler-official, biothings-client, mygene, Bio\r\n",
      "Successfully installed Bio-1.7.1 biopython-1.83 biothings-client-0.3.1 gprofiler-official-1.0.0 mygene-3.2.2\r\n",
      "Collecting pysam\r\n",
      "  Downloading pysam-0.22.1-cp310-cp310-manylinux_2_28_x86_64.whl.metadata (1.5 kB)\r\n",
      "Downloading pysam-0.22.1-cp310-cp310-manylinux_2_28_x86_64.whl (22.0 MB)\r\n",
      "\u001b[2K   \u001b[90m━━━━━━━━━━━━━━━━━━━━━━━━━━━━━━━━━━━━━━━━\u001b[0m \u001b[32m22.0/22.0 MB\u001b[0m \u001b[31m54.9 MB/s\u001b[0m eta \u001b[36m0:00:00\u001b[0m\r\n",
      "\u001b[?25hInstalling collected packages: pysam\r\n",
      "Successfully installed pysam-0.22.1\r\n"
     ]
    }
   ],
   "source": [
    "!pip install Bio\n",
    "!pip install pysam\n",
    "\n",
    "import pysam\n",
    "import numpy as np\n",
    "import pandas as pd\n",
    "from Bio import SeqIO\n",
    "from scipy.stats import binom\n",
    "from collections import Counter\n",
    "import matplotlib.pyplot as plt"
   ]
  },
  {
   "cell_type": "code",
   "execution_count": 2,
   "id": "9305f106",
   "metadata": {
    "execution": {
     "iopub.execute_input": "2024-06-12T10:01:54.836623Z",
     "iopub.status.busy": "2024-06-12T10:01:54.835905Z",
     "iopub.status.idle": "2024-06-12T10:01:54.877333Z",
     "shell.execute_reply": "2024-06-12T10:01:54.875443Z"
    },
    "papermill": {
     "duration": 0.053305,
     "end_time": "2024-06-12T10:01:54.880403",
     "exception": false,
     "start_time": "2024-06-12T10:01:54.827098",
     "status": "completed"
    },
    "tags": []
   },
   "outputs": [],
   "source": [
    "working_dir = \"/kaggle/working/\"\n",
    "data_dir = \"/kaggle/input/squidrna/\"\n",
    "\n",
    "gfl_bam = pysam.AlignmentFile(data_dir + \"gfl.bam\", \"rb\")"
   ]
  },
  {
   "cell_type": "code",
   "execution_count": 3,
   "id": "f37e362d",
   "metadata": {
    "execution": {
     "iopub.execute_input": "2024-06-12T10:01:54.895906Z",
     "iopub.status.busy": "2024-06-12T10:01:54.895337Z",
     "iopub.status.idle": "2024-06-12T10:01:55.504491Z",
     "shell.execute_reply": "2024-06-12T10:01:55.502751Z"
    },
    "papermill": {
     "duration": 0.620679,
     "end_time": "2024-06-12T10:01:55.507624",
     "exception": false,
     "start_time": "2024-06-12T10:01:54.886945",
     "status": "completed"
    },
    "tags": []
   },
   "outputs": [],
   "source": [
    "ids = []\n",
    "sequences = []\n",
    "orf_starts = []\n",
    "orf_ends = []\n",
    "\n",
    "with open(working_dir + \"outfile.txt\", \"w\") as out:\n",
    "\n",
    "    for seq in SeqIO.parse(data_dir + \"pealeii.fasta\", \"fasta\"):\n",
    "    \n",
    "        out.write(seq.id + \"\\n\")\n",
    "    \n",
    "        ids.append(seq.id)\n",
    "        sequences.append(seq.seq)\n",
    "    \n",
    "        desc = seq.description.split(\"\\t\")\n",
    "        orf_starts.append(desc[2])\n",
    "        orf_ends.append(desc[4])\n",
    "\n",
    "df = pd.DataFrame({\"id\": ids, \"start\": orf_starts, \"end\": orf_ends, \"seq\": sequences})\n",
    "df[\"start\"] = df[\"start\"].astype(int)\n",
    "df[\"end\"] = df[\"end\"].astype(int)"
   ]
  },
  {
   "cell_type": "code",
   "execution_count": 4,
   "id": "8ae76894",
   "metadata": {
    "execution": {
     "iopub.execute_input": "2024-06-12T10:01:55.522636Z",
     "iopub.status.busy": "2024-06-12T10:01:55.521226Z",
     "iopub.status.idle": "2024-06-12T10:01:55.528875Z",
     "shell.execute_reply": "2024-06-12T10:01:55.527568Z"
    },
    "papermill": {
     "duration": 0.017822,
     "end_time": "2024-06-12T10:01:55.531523",
     "exception": false,
     "start_time": "2024-06-12T10:01:55.513701",
     "status": "completed"
    },
    "tags": []
   },
   "outputs": [],
   "source": [
    "i = 0\n",
    "error_rate = 1e-3\n",
    "min_base_quality = 30\n",
    "alpha = 0.05\n",
    "\n",
    "transcript_name = df[\"id\"][i]\n",
    "orf_start = df[\"start\"][i]\n",
    "orf_end = df[\"end\"][i]\n",
    "orf_range = orf_end - orf_start"
   ]
  },
  {
   "cell_type": "code",
   "execution_count": 5,
   "id": "20269011",
   "metadata": {
    "execution": {
     "iopub.execute_input": "2024-06-12T10:01:55.545621Z",
     "iopub.status.busy": "2024-06-12T10:01:55.545124Z",
     "iopub.status.idle": "2024-06-12T13:14:18.704502Z",
     "shell.execute_reply": "2024-06-12T13:14:18.702828Z"
    },
    "papermill": {
     "duration": 11543.172522,
     "end_time": "2024-06-12T13:14:18.709923",
     "exception": false,
     "start_time": "2024-06-12T10:01:55.537401",
     "status": "completed"
    },
    "tags": []
   },
   "outputs": [],
   "source": [
    "gene_pileup = gfl_bam.pileup(\n",
    "    start=orf_start,\n",
    "    stop=orf_end,\n",
    "    min_base_quality=min_base_quality\n",
    ")\n",
    "\n",
    "with open(working_dir + \"modifications.txt\", \"w\") as results:\n",
    "    \n",
    "    results.write(\"Position\\tCoverage\\tA\\tC\\tT\\tG\\tVar\\tTotal\\tPadj\\n\")\n",
    "\n",
    "    for column in gene_pileup:\n",
    "\n",
    "        base_counter = Counter({\"A\": 0, \"C\": 0, \"T\": 0, \"G\": 0})\n",
    "\n",
    "        for read in column.pileups:\n",
    "            if not read.is_del and not read.is_refskip:\n",
    "\n",
    "                base = read.alignment.query_sequence[read.query_position]\n",
    "                base_counter.update(base)\n",
    "\n",
    "        ref, var = base_counter.most_common(2)\n",
    "        pval = binom.cdf(ref[1], ref[1] + var[1], 1 - error_rate)\n",
    "\n",
    "        if pval < alpha / orf_range:\n",
    "            \n",
    "            results.write(f\"{column.pos}\\t{column.n}\\t\")\n",
    "            results.write(f\"{base_counter['A']}\\t{base_counter['C']}\\t\")\n",
    "            results.write(f\"{base_counter['T']}\\t{base_counter['G']}\\t\")\n",
    "            results.write(f\"{var[1]}\\t{ref[1] + var[1]}\\t{pval:.2g}\\n\")"
   ]
  }
 ],
 "metadata": {
  "kaggle": {
   "accelerator": "none",
   "dataSources": [
    {
     "datasetId": 5194401,
     "sourceId": 8667889,
     "sourceType": "datasetVersion"
    }
   ],
   "dockerImageVersionId": 30732,
   "isGpuEnabled": false,
   "isInternetEnabled": true,
   "language": "python",
   "sourceType": "notebook"
  },
  "kernelspec": {
   "display_name": "Python 3",
   "language": "python",
   "name": "python3"
  },
  "language_info": {
   "codemirror_mode": {
    "name": "ipython",
    "version": 3
   },
   "file_extension": ".py",
   "mimetype": "text/x-python",
   "name": "python",
   "nbconvert_exporter": "python",
   "pygments_lexer": "ipython3",
   "version": "3.10.13"
  },
  "papermill": {
   "default_parameters": {},
   "duration": 11588.411634,
   "end_time": "2024-06-12T13:14:19.491704",
   "environment_variables": {},
   "exception": null,
   "input_path": "__notebook__.ipynb",
   "output_path": "__notebook__.ipynb",
   "parameters": {},
   "start_time": "2024-06-12T10:01:11.080070",
   "version": "2.5.0"
  }
 },
 "nbformat": 4,
 "nbformat_minor": 5
}
